{
 "cells": [
  {
   "cell_type": "code",
   "execution_count": 11,
   "id": "7db862eb-c12e-4c6e-9243-1ef4cdb1cb7a",
   "metadata": {
    "tags": []
   },
   "outputs": [],
   "source": [
    "import pandas as pd\n",
    "import numpy as np\n",
    "import gensim\n",
    "from sklearn.feature_extraction.text import CountVectorizer\n",
    "from sklearn.linear_model import LogisticRegression\n",
    "from sklearn.naive_bayes import MultinomialNB , GaussianNB\n",
    "from sklearn.feature_extraction.text import TfidfVectorizer, CountVectorizer\n",
    "from sklearn.metrics import classification_report, confusion_matrix, accuracy_score\n",
    "from sklearn.model_selection import GridSearchCV\n",
    "from sklearn.svm import LinearSVC\n",
    "from sklearn.linear_model import LogisticRegression"
   ]
  },
  {
   "cell_type": "code",
   "execution_count": 12,
   "id": "e6b23bf6-d42a-41df-934d-2ac6a0321487",
   "metadata": {
    "tags": []
   },
   "outputs": [],
   "source": [
    "#pip install gensim"
   ]
  },
  {
   "cell_type": "code",
   "execution_count": 13,
   "id": "b5bd5ce8-df9f-42ca-9e41-bda0a265ddb3",
   "metadata": {
    "tags": []
   },
   "outputs": [],
   "source": [
    "#import urllib.request\n",
    "\n",
    "#url = \"https://ftp.ncbi.nlm.nih.gov/pub/lu/Suppl/BioSentVec/BioWordVec_PubMed_MIMICIII_d200.vec.bin\"\n",
    "#output_file = \"BioWordVec.bin\"\n",
    "\n",
    "#print(\"Downloading BioWordVec... This may take a while.\")\n",
    "#urllib.request.urlretrieve(url, output_file)\n",
    "#print(\"Download complete!\")"
   ]
  },
  {
   "cell_type": "code",
   "execution_count": 14,
   "id": "807856fe-3b73-4cdb-add4-dc02ab96d2a0",
   "metadata": {
    "tags": []
   },
   "outputs": [],
   "source": [
    "BIOWORDVEC_PATH = \"BioWordVec.bin\"\n",
    "biowordvec_model = gensim.models.KeyedVectors.load_word2vec_format(BIOWORDVEC_PATH, binary=True,limit = 500000)"
   ]
  },
  {
   "cell_type": "code",
   "execution_count": 15,
   "id": "d2ac8cc7-191d-4b8c-8b60-f9225e066ac3",
   "metadata": {
    "tags": []
   },
   "outputs": [],
   "source": [
    "#au lieu de scispacy , the tokenization :\n",
    "\n",
    "def sentence_to_vector(sentence, model):\n",
    "    words = sentence.split()\n",
    "    vectors = [model[word] for word in words if word in model]\n",
    "    if len(vectors) == 0:\n",
    "        return np.zeros(model.vector_size) \n",
    "    return np.mean(vectors, axis=0)  \n",
    "def load_data(file_path):\n",
    "    df = pd.read_csv(file_path, delimiter='\\t', names=['label', 'sentence'])\n",
    "    df.dropna(inplace=True)\n",
    "    return df"
   ]
  },
  {
   "cell_type": "markdown",
   "id": "36d6da23-3df0-4187-96d6-fd186aebd83f",
   "metadata": {},
   "source": [
    "**Preparation of the dataSet**"
   ]
  },
  {
   "cell_type": "code",
   "execution_count": 16,
   "id": "366b5f68-6a45-4ea4-bf6a-e4fac66967a0",
   "metadata": {
    "tags": []
   },
   "outputs": [],
   "source": [
    "train_path = 'pubmed-rct/PubMed_20k_RCT/train.txt'\n",
    "test_path = 'pubmed-rct/PubMed_20k_RCT/test.txt'\n",
    "dev_path = 'pubmed-rct/PubMed_20k_RCT/dev.txt'\n",
    "\n",
    "#X_train, y_train = pd.read_csv(train_path, delimiter='\\t', header=None, names=['label', 'text'])\n",
    "#X_test, y_test = pd.read_csv(test_path, delimiter='\\t', header=None, names=['label', 'text'])\n",
    "#X_def, y_def =  pd.read_csv(def_path, delimiter='\\t', header=None, names=['label', 'text'])\n",
    "\n",
    "\n",
    "df_train = load_data(train_path)\n",
    "df_test = load_data(test_path)\n",
    "df_dev = load_data(dev_path)\n"
   ]
  },
  {
   "cell_type": "code",
   "execution_count": 17,
   "id": "12764aa8-0c8e-4421-8f74-305f6da6898b",
   "metadata": {
    "tags": []
   },
   "outputs": [
    {
     "name": "stdout",
     "output_type": "stream",
     "text": [
      "             label                                           sentence\n",
      "1       BACKGROUND  This study analyzed liver function abnormaliti...\n",
      "2          RESULTS  A post hoc analysis was conducted with the use...\n",
      "3          RESULTS  Liver function tests ( LFTs ) were measured at...\n",
      "4          RESULTS  Survival analyses were used to assess the asso...\n",
      "5          RESULTS  The percentage of patients with abnormal LFTs ...\n",
      "...            ...                                                ...\n",
      "32630      RESULTS  There was a statistically significant between-...\n",
      "32631      RESULTS  There were no statistically significant betwee...\n",
      "32632      RESULTS  There was no significant association between s...\n",
      "32633      RESULTS                 No adverse effects were reported .\n",
      "32634  CONCLUSIONS  Performing a 6-week do-as-tolerated program of...\n",
      "\n",
      "[30135 rows x 2 columns]\n"
     ]
    }
   ],
   "source": [
    "print(df_test)"
   ]
  },
  {
   "cell_type": "code",
   "execution_count": 18,
   "id": "dace0b50-9626-42db-8ee1-e8bfb3c7adf4",
   "metadata": {
    "tags": []
   },
   "outputs": [
    {
     "name": "stdout",
     "output_type": "stream",
     "text": [
      "360080\n",
      "60424\n",
      "60270\n"
     ]
    }
   ],
   "source": [
    "print (df_train.size)\n",
    "print (df_dev.size)\n",
    "print (df_test.size)"
   ]
  },
  {
   "cell_type": "markdown",
   "id": "8f6efff3-b6be-4090-a41c-4c2e3cf08322",
   "metadata": {},
   "source": [
    "**Feature extraction: TF-IDF and CountVectorizer**\n"
   ]
  },
  {
   "cell_type": "code",
   "execution_count": 19,
   "id": "5bef9ce8-e512-4de7-ba6e-6872fe638780",
   "metadata": {
    "tags": []
   },
   "outputs": [],
   "source": [
    "vectorizer_tfidf = TfidfVectorizer()\n",
    "vectorizer_count = CountVectorizer()\n"
   ]
  },
  {
   "cell_type": "code",
   "execution_count": 20,
   "id": "6ae3c318-3057-4929-8b8a-bc954d5dea5e",
   "metadata": {},
   "outputs": [],
   "source": [
    "\n",
    "X_train_tfidf = vectorizer_tfidf.fit_transform(df_train['sentence'])\n",
    "X_test_tfidf = vectorizer_tfidf.transform(df_test['sentence'])\n",
    "X_dev_tfidf = vectorizer_tfidf.transform(df_dev['sentence'])"
   ]
  },
  {
   "cell_type": "code",
   "execution_count": 21,
   "id": "d56cd113-5fc0-483f-a9e4-4e020248d345",
   "metadata": {
    "tags": []
   },
   "outputs": [],
   "source": [
    "X_train_count = vectorizer_count.fit_transform(df_train['sentence'])\n",
    "X_test_count = vectorizer_count.transform(df_test['sentence'])\n",
    "X_dev_count = vectorizer_count.transform(df_dev['sentence'])"
   ]
  },
  {
   "cell_type": "markdown",
   "id": "6f43e2bf-d2c5-40d7-99db-36dad79e304f",
   "metadata": {},
   "source": [
    "\n",
    "\n",
    "**Convert labels to numerical values**"
   ]
  },
  {
   "cell_type": "code",
   "execution_count": 22,
   "id": "4e98e5bf-9bad-4cdd-8e2f-545a1a8d27de",
   "metadata": {
    "tags": []
   },
   "outputs": [],
   "source": [
    "\n",
    "y_train = df_train['label'].astype('category').cat.codes\n",
    "y_test = df_test['label'].astype('category').cat.codes\n",
    "y_dev = df_dev['label'].astype('category').cat.codes\n"
   ]
  },
  {
   "cell_type": "code",
   "execution_count": 23,
   "id": "2bef86ab-1816-4e71-90ed-2a08c116dd0c",
   "metadata": {
    "tags": []
   },
   "outputs": [
    {
     "name": "stdout",
     "output_type": "stream",
     "text": [
      "Index(['BACKGROUND', 'CONCLUSIONS', 'METHODS', 'OBJECTIVE', 'RESULTS'], dtype='object')\n"
     ]
    }
   ],
   "source": [
    "print(df_train['label'].astype('category').cat.categories)\n"
   ]
  },
  {
   "cell_type": "markdown",
   "id": "9926bc21-2ff3-4190-8c6b-a185536bc37e",
   "metadata": {},
   "source": [
    "**Train Naive Bayes with TF-IDF optimisé**"
   ]
  },
  {
   "cell_type": "code",
   "execution_count": 24,
   "id": "c49c37b7-d8a6-45ae-a244-70c55df16075",
   "metadata": {
    "tags": []
   },
   "outputs": [],
   "source": [
    "\n",
    "\n",
    "param_grid = {'alpha': [0.1, 0.5, 1.0, 5.0, 10.0]}\n",
    "clf_tfidf = GridSearchCV(MultinomialNB(), param_grid, cv=5, scoring='accuracy')\n",
    "clf_tfidf.fit(X_train_tfidf, y_train)\n",
    "best_tfidf = clf_tfidf.best_estimator_\n"
   ]
  },
  {
   "cell_type": "markdown",
   "id": "03317541-14d4-4a0b-82da-1021ac50b6df",
   "metadata": {},
   "source": [
    "**Vocabulary size for TF-IDF**"
   ]
  },
  {
   "cell_type": "code",
   "execution_count": 26,
   "id": "abba733c-40dd-4264-a9bf-055053c949eb",
   "metadata": {
    "tags": []
   },
   "outputs": [
    {
     "name": "stdout",
     "output_type": "stream",
     "text": [
      "TF-IDF Vocabulary Size: 57996\n"
     ]
    }
   ],
   "source": [
    "print(\"TF-IDF Vocabulary Size:\", len(vectorizer_tfidf.vocabulary_))"
   ]
  },
  {
   "cell_type": "markdown",
   "id": "be9c17db-caa1-4d37-9dac-3f9c070465a9",
   "metadata": {},
   "source": [
    "**Evaluate models**"
   ]
  },
  {
   "cell_type": "code",
   "execution_count": 27,
   "id": "09c2c178-6ab1-4060-9920-b2769006fab2",
   "metadata": {
    "tags": []
   },
   "outputs": [
    {
     "name": "stdout",
     "output_type": "stream",
     "text": [
      "=== TF-IDF Results ===\n",
      "Accuracy: 0.7451136552181848\n",
      "Confusion Matrix:\n",
      "[[1891  782  518  356   74]\n",
      " [ 476 2962  296  104  733]\n",
      " [ 175  173 8606   56  887]\n",
      " [ 612  367  503  808   43]\n",
      " [  51  405 1052   18 8187]]\n",
      "Classification Report:\n",
      "              precision    recall  f1-score   support\n",
      "\n",
      "           0       0.59      0.52      0.55      3621\n",
      "           1       0.63      0.65      0.64      4571\n",
      "           2       0.78      0.87      0.82      9897\n",
      "           3       0.60      0.35      0.44      2333\n",
      "           4       0.82      0.84      0.83      9713\n",
      "\n",
      "    accuracy                           0.75     30135\n",
      "   macro avg       0.69      0.65      0.66     30135\n",
      "weighted avg       0.74      0.75      0.74     30135\n",
      "\n"
     ]
    }
   ],
   "source": [
    "\n",
    "print(\"=== TF-IDF Results ===\")\n",
    "y_pred_tfidf = best_tfidf.predict(X_test_tfidf)\n",
    "print(\"Accuracy:\", accuracy_score(y_test, y_pred_tfidf))\n",
    "print(\"Confusion Matrix:\")\n",
    "print(confusion_matrix(y_test, y_pred_tfidf))\n",
    "print(\"Classification Report:\")\n",
    "print(classification_report(y_test, y_pred_tfidf))"
   ]
  },
  {
   "cell_type": "markdown",
   "id": "94c9eedb-a1fb-43d0-93d2-5f7417a08209",
   "metadata": {},
   "source": [
    "**Train Naive Bayes with CountVectorizer**"
   ]
  },
  {
   "cell_type": "code",
   "execution_count": 28,
   "id": "c0eea660-ad37-4792-b1b5-12adaf3e36ef",
   "metadata": {
    "tags": []
   },
   "outputs": [],
   "source": [
    "\n",
    "clf_count = GridSearchCV(MultinomialNB(), param_grid, cv=5, scoring='accuracy')\n",
    "clf_count.fit(X_train_count, y_train)\n",
    "best_count = clf_count.best_estimator_"
   ]
  },
  {
   "cell_type": "code",
   "execution_count": 29,
   "id": "4f4f9084-a5fe-428d-babb-f9b2883a2bb1",
   "metadata": {
    "tags": []
   },
   "outputs": [
    {
     "name": "stdout",
     "output_type": "stream",
     "text": [
      "CountVectorizer Vocabulary Size: 57996\n"
     ]
    }
   ],
   "source": [
    "# Vocabulary size for CountVectorizer\n",
    "print(\"CountVectorizer Vocabulary Size:\", len(vectorizer_count.vocabulary_))"
   ]
  },
  {
   "cell_type": "markdown",
   "id": "919e1233-71c8-490c-8d9d-95369c1ae58d",
   "metadata": {
    "tags": []
   },
   "source": [
    "**Results**"
   ]
  },
  {
   "cell_type": "code",
   "execution_count": 14,
   "id": "bfc11241-f581-4604-957c-d83b57d73208",
   "metadata": {
    "tags": []
   },
   "outputs": [
    {
     "name": "stdout",
     "output_type": "stream",
     "text": [
      "=== CountVectorizer Results ===\n",
      "Accuracy: 0.7702339472374315\n",
      "Confusion Matrix:\n",
      "[[2127  636  285  537   36]\n",
      " [ 507 3286  130  154  494]\n",
      " [ 256  197 8629  158  657]\n",
      " [ 615  251  203 1249   15]\n",
      " [  67  635 1062   29 7920]]\n",
      "Classification Report:\n",
      "              precision    recall  f1-score   support\n",
      "\n",
      "           0       0.60      0.59      0.59      3621\n",
      "           1       0.66      0.72      0.69      4571\n",
      "           2       0.84      0.87      0.85      9897\n",
      "           3       0.59      0.54      0.56      2333\n",
      "           4       0.87      0.82      0.84      9713\n",
      "\n",
      "    accuracy                           0.77     30135\n",
      "   macro avg       0.71      0.71      0.71     30135\n",
      "weighted avg       0.77      0.77      0.77     30135\n",
      "\n"
     ]
    }
   ],
   "source": [
    "print(\"=== CountVectorizer Results ===\")\n",
    "y_pred_count = best_count.predict(X_test_count)\n",
    "print(\"Accuracy:\", accuracy_score(y_test, y_pred_count))\n",
    "print(\"Confusion Matrix:\")\n",
    "print(confusion_matrix(y_test, y_pred_count))\n",
    "print(\"Classification Report:\")\n",
    "print(classification_report(y_test, y_pred_count))\n",
    "\n",
    "\n"
   ]
  },
  {
   "cell_type": "markdown",
   "id": "ec085b32-d1b8-48ce-97fa-4b41b8c8d798",
   "metadata": {},
   "source": [
    "**BioWordVec Feature Extraction**"
   ]
  },
  {
   "cell_type": "code",
   "execution_count": 31,
   "id": "1adfcc8a-8337-41c7-98b9-82041e54c879",
   "metadata": {
    "tags": []
   },
   "outputs": [],
   "source": [
    "\n",
    "X_train_biovec = np.vstack(df_train['sentence'].apply(lambda x: sentence_to_vector(x, biowordvec_model)))\n",
    "X_test_biovec = np.vstack(df_test['sentence'].apply(lambda x: sentence_to_vector(x, biowordvec_model)))\n",
    "X_dev_biovec = np.vstack(df_dev['sentence'].apply(lambda x: sentence_to_vector(x, biowordvec_model)))\n"
   ]
  },
  {
   "cell_type": "markdown",
   "id": "0aa6d1e3-826f-4830-aab2-885015115194",
   "metadata": {},
   "source": [
    "**Vocabulary size for BioWordVec (pre-trained word embeddings)**"
   ]
  },
  {
   "cell_type": "code",
   "execution_count": 32,
   "id": "24b3d6cd-a53f-4502-89ce-9bef7d23312c",
   "metadata": {
    "tags": []
   },
   "outputs": [
    {
     "name": "stdout",
     "output_type": "stream",
     "text": [
      "BioWordVec Vocabulary Size: 500000\n"
     ]
    }
   ],
   "source": [
    "\n",
    "print(\"BioWordVec Vocabulary Size:\", len(biowordvec_model.key_to_index))"
   ]
  },
  {
   "cell_type": "markdown",
   "id": "b7f13331-8314-4324-b855-bb3e92381185",
   "metadata": {},
   "source": [
    "**Train Naive Bayes with BioWordVec**"
   ]
  },
  {
   "cell_type": "code",
   "execution_count": 33,
   "id": "04607d40-abfc-4be2-9222-2083ded2a5fe",
   "metadata": {
    "tags": []
   },
   "outputs": [],
   "source": [
    "clf = GaussianNB()\n",
    "clf.fit(X_train_biovec, y_train)\n",
    "best_model = clf\n",
    "best_biovec=best_model"
   ]
  },
  {
   "cell_type": "code",
   "execution_count": 34,
   "id": "5ff1f291-fcb3-452d-ae84-94382b914b5d",
   "metadata": {
    "tags": []
   },
   "outputs": [
    {
     "name": "stdout",
     "output_type": "stream",
     "text": [
      "=== BioWordVec Results (Naive Bayes) ===\n",
      "Accuracy: 0.5935954869752779\n",
      "Confusion Matrix:\n",
      "[[ 937 1196  173 1237   78]\n",
      " [ 432 3105  169  596  269]\n",
      " [ 684  841 5618 1009 1745]\n",
      " [ 226  371  154 1513   69]\n",
      " [ 315 1345 1111  227 6715]]\n",
      "Classification Report:\n",
      "              precision    recall  f1-score   support\n",
      "\n",
      "           0       0.36      0.26      0.30      3621\n",
      "           1       0.45      0.68      0.54      4571\n",
      "           2       0.78      0.57      0.66      9897\n",
      "           3       0.33      0.65      0.44      2333\n",
      "           4       0.76      0.69      0.72      9713\n",
      "\n",
      "    accuracy                           0.59     30135\n",
      "   macro avg       0.54      0.57      0.53     30135\n",
      "weighted avg       0.64      0.59      0.60     30135\n",
      "\n"
     ]
    }
   ],
   "source": [
    "\n",
    "print(\"=== BioWordVec Results (Naive Bayes) ===\")\n",
    "y_pred_biovec = best_biovec.predict(X_test_biovec)\n",
    "print(\"Accuracy:\", accuracy_score(y_test, y_pred_biovec))\n",
    "print(\"Confusion Matrix:\")\n",
    "print(confusion_matrix(y_test, y_pred_biovec))\n",
    "print(\"Classification Report:\")\n",
    "print(classification_report(y_test, y_pred_biovec))"
   ]
  },
  {
   "cell_type": "markdown",
   "id": "68a92ff2-0914-4219-a6bf-311336e0837f",
   "metadata": {},
   "source": [
    "**Train LogisticRegression with BioWordVec**"
   ]
  },
  {
   "cell_type": "code",
   "execution_count": 19,
   "id": "48f1bfb7-2931-48eb-8e44-ccfdeb29397c",
   "metadata": {
    "tags": []
   },
   "outputs": [
    {
     "name": "stdout",
     "output_type": "stream",
     "text": [
      "=== BioWordVec Results (LogisticRegression) ===\n",
      "Accuracy: 0.771163099386096\n",
      "Confusion Matrix:\n",
      "[[2031  642  348  537   63]\n",
      " [ 531 3130  269  103  538]\n",
      " [ 185  188 8708  100  716]\n",
      " [ 564  246  279 1216   28]\n",
      " [  57  451 1046    5 8154]]\n",
      "Classification Report:\n",
      "              precision    recall  f1-score   support\n",
      "\n",
      "           0       0.60      0.56      0.58      3621\n",
      "           1       0.67      0.68      0.68      4571\n",
      "           2       0.82      0.88      0.85      9897\n",
      "           3       0.62      0.52      0.57      2333\n",
      "           4       0.86      0.84      0.85      9713\n",
      "\n",
      "    accuracy                           0.77     30135\n",
      "   macro avg       0.71      0.70      0.70     30135\n",
      "weighted avg       0.77      0.77      0.77     30135\n",
      "\n"
     ]
    }
   ],
   "source": [
    "\n",
    "\n",
    "clf_biovec = LogisticRegression(C=1, solver='saga', max_iter=500).fit(X_train_biovec, y_train)\n",
    "clf_biovec.fit(X_train_biovec, y_train)\n",
    "best_biovec = clf_biovec\n",
    "\n",
    "print(\"=== BioWordVec Results (LogisticRegression) ===\")\n",
    "y_pred_biovec = best_biovec.predict(X_test_biovec)\n",
    "print(\"Accuracy:\", accuracy_score(y_test, y_pred_biovec))\n",
    "print(\"Confusion Matrix:\")\n",
    "print(confusion_matrix(y_test, y_pred_biovec))\n",
    "print(\"Classification Report:\")\n",
    "print(classification_report(y_test, y_pred_biovec))"
   ]
  },
  {
   "cell_type": "code",
   "execution_count": 23,
   "id": "fbe60637-bea8-4eda-b247-63d972f37768",
   "metadata": {
    "tags": []
   },
   "outputs": [
    {
     "name": "stdout",
     "output_type": "stream",
     "text": [
      "\n",
      "===== Model Comparison =====\n",
      "TF-IDF Accuracy with Naive Bayes: 0.7451\n",
      "CountVectorizer Accuracy with Naive Bayes: 0.7702\n",
      "BioWordVec Accuracy with Logistic Regression: 0.7712\n"
     ]
    }
   ],
   "source": [
    "\n",
    "# Compare models\n",
    "print(\"\\n===== Model Comparison =====\")\n",
    "print(f\"TF-IDF Accuracy with Naive Bayes: {accuracy_score(y_test, y_pred_tfidf):.4f}\")\n",
    "print(f\"CountVectorizer Accuracy with Naive Bayes: {accuracy_score(y_test, y_pred_count):.4f}\")\n",
    "print(f\"BioWordVec Accuracy with Logistic Regression: {accuracy_score(y_test, y_pred_biovec):.4f}\")\n"
   ]
  },
  {
   "cell_type": "code",
   "execution_count": null,
   "id": "e85eb2f9-02fb-4d22-9826-0f255c30d153",
   "metadata": {
    "tags": []
   },
   "outputs": [],
   "source": [
    "#optimisation des hypermarapètres de LogisticRegression:\n",
    "\n",
    "param_grid_lr = {'C': [0.1, 0.5, 1]}\n",
    "clf_biovec = GridSearchCV(LogisticRegression(solver='saga', max_iter=10000), param_grid_lr, cv=50, scoring='accuracy', n_jobs=1)\n",
    "clf_biovec.fit(X_train_biovec, y_train)\n",
    "best_biovec = clf_biovec.best_estimator_\n",
    "\n",
    "\n",
    "\n",
    "print(\"=== BioWordVec Results (LogisticRegression Optimised) ===\")\n",
    "y_pred_biovec = best_biovec.predict(X_test_biovec)\n",
    "print(\"Accuracy:\", accuracy_score(y_test, y_pred_biovec))\n",
    "print(\"Confusion Matrix:\")\n",
    "print(confusion_matrix(y_test, y_pred_biovec))\n",
    "print(\"Classification Report:\")\n",
    "print(classification_report(y_test, y_pred_biovec))"
   ]
  }
 ],
 "metadata": {
  "kernelspec": {
   "display_name": "Python 3 (ipykernel)",
   "language": "python",
   "name": "python3"
  },
  "language_info": {
   "codemirror_mode": {
    "name": "ipython",
    "version": 3
   },
   "file_extension": ".py",
   "mimetype": "text/x-python",
   "name": "python",
   "nbconvert_exporter": "python",
   "pygments_lexer": "ipython3",
   "version": "3.10.8"
  }
 },
 "nbformat": 4,
 "nbformat_minor": 5
}
